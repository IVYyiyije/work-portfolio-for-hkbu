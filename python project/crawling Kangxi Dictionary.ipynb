{
 "cells": [
  {
   "cell_type": "code",
   "execution_count": null,
   "metadata": {},
   "outputs": [],
   "source": [
    "import requests\n",
    "import os\n",
    "import re\n",
    "from pyquery import PyQuery as pq\n",
    "\n",
    "def get_data(url):\n",
    "    res = requests.get(url)\n",
    "    #from pyquery import PyQuery as pq\n",
    "    doc = pq(res.content)\n",
    "    return doc\n",
    "\n",
    "def content_write(content,filename):\n",
    "    #将文字写入文件\n",
    "        with open(filename,\"w\",encoding='utf-8') as f:\n",
    "            for i in range (len(content)): \n",
    "                f.write(content[i])\n",
    "                f.write('\\n')\n",
    "            f.close()\n",
    "            \n",
    "def pic_write(content,filename):\n",
    "    #将图片src写入txt文件\n",
    "    file = open(filename,'w+')   \n",
    "    file.write(content)\n",
    "    file.close()\n",
    "    \n",
    "def mkdir(new_path):\n",
    "       # new_path=path+title[j]\n",
    "        if not os.path.exists(new_path):  \n",
    "            try:\n",
    "                os.mkdir(new_path)\n",
    "            except FileNotFoundError:\n",
    "                pass"
   ]
  },
  {
   "cell_type": "code",
   "execution_count": null,
   "metadata": {},
   "outputs": [],
   "source": [
    "root='http://www.guoxuedashi.com'\n",
    "kangxi='/kangxi'\n",
    "doc=get_data(root+kangxi)\n",
    "url=[pq(sq).attr('href') for sq in doc('.table2 td a')]\n",
    "title=[pq(st).text() for st in doc('.table2 td a')]\n",
    "for h in range(len(url)):\n",
    "    path = \"F:\\\\kangxi_dictionary\\\\\"\n",
    "    new_path=path+title[h]\n",
    "    mkdir(new_path)\n",
    "    urll=root+url[h]\n",
    "    doc=get_data(urll)\n",
    "    url1=[pq(sq).attr('href') for sq in doc('.info_txt2.clearfix a')]\n",
    "    title1=[pq(st).text() for st in doc('.info_txt2.clearfix a')]\n",
    "    for j in range(len(url1)):\n",
    "        new_path1=new_path+\"\\\\\"+title1[j]\n",
    "        mkdir(new_path1)\n",
    "        url2=root+url1[j]\n",
    "        docc=get_data(url2)\n",
    "        text_name=title1[j]\n",
    "        try:\n",
    "            pic_src=docc('.info_txt2.clearfix img').attr('src')\n",
    "            a=docc('.info_txt2.clearfix p').text()\n",
    "            if(a==None):\n",
    "                continue\n",
    "            else:\n",
    "                b=a.split('\\n')\n",
    "                filename_pic=new_path1+\"\\\\\"+text_name+'_picsource.txt'\n",
    "                filename_text=new_path1+\"\\\\\"+text_name+'_text.txt'\n",
    "                pic_write(pic_src,filename_pic)\n",
    "                content_write(b,filename_text)\n",
    "            \n",
    "        except AttributeError:\n",
    "                pass\n",
    "        continue"
   ]
  }
 ],
 "metadata": {
  "kernelspec": {
   "display_name": "Python 3",
   "language": "python",
   "name": "python3"
  },
  "language_info": {
   "codemirror_mode": {
    "name": "ipython",
    "version": 3
   },
   "file_extension": ".py",
   "mimetype": "text/x-python",
   "name": "python",
   "nbconvert_exporter": "python",
   "pygments_lexer": "ipython3",
   "version": "3.7.3"
  }
 },
 "nbformat": 4,
 "nbformat_minor": 2
}
