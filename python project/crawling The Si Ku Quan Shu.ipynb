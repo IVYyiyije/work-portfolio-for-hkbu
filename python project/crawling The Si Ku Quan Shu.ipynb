{
 "cells": [
  {
   "cell_type": "code",
   "execution_count": null,
   "metadata": {},
   "outputs": [],
   "source": [
    "import requests\n",
    "import os\n",
    "import re\n",
    "from pyquery import PyQuery as pq"
   ]
  },
  {
   "cell_type": "code",
   "execution_count": null,
   "metadata": {},
   "outputs": [],
   "source": [
    "def get_data(url):\n",
    "    res = requests.get(url)\n",
    "    from pyquery import PyQuery as pq\n",
    "    doc = pq(res.content)\n",
    "    return doc\n",
    "\n",
    "def content_write(content,filename):\n",
    "    #wirte content into file\n",
    "        with open(filename,\"w\",encoding='utf-8') as f:\n",
    "            for i in range (len(content)): \n",
    "                f.write(content[i])\n",
    "                f.write('\\n')\n",
    "                f.write('\\n')\n",
    "            f.close()\n",
    "def pic_write(content,filename):\n",
    "    #write path of img into file\n",
    "    file = open(filename,'w+')\n",
    "    for k in range (len(content)):    \n",
    "        file.write(content[k][24:-1]+'\\n')\n",
    "    file.close()\n",
    "    \n",
    "def mkdir(new_path):\n",
    "       # new_path=path+title[j]\n",
    "        if not os.path.exists(new_path):  \n",
    "            try:\n",
    "                os.mkdir(new_path)\n",
    "            except FileNotFoundError:\n",
    "                pass"
   ]
  },
  {
   "cell_type": "code",
   "execution_count": null,
   "metadata": {},
   "outputs": [],
   "source": [
    "root='http://skqs.guoxuedashi.com'\n",
    "doc=get_data(root)\n",
    "url=[pq(sq).attr('href') for sq in doc('.dd3 a')]\n",
    "title=[pq(st).text() for st in doc('.clearfix .dd3 a')]\n",
    "for h in range(4):\n",
    "    path = \"F:\\\\pc\\\\\"\n",
    "    new_path=path+title[h]\n",
    "    mkdir(new_path)\n",
    "    urll=root+url[h]\n",
    "    doc=get_data(urll)\n",
    "    url1=[pq(sq).attr('href') for sq in doc('.dd3 a')]\n",
    "    title1=[pq(st).text() for st in doc('.dd3 a')]\n",
    "    for j in range(len(url1)):\n",
    "        new_path1=new_path+\"\\\\\"+title1[j]\n",
    "        mkdir(new_path1)\n",
    "        url2=root+url1[j]\n",
    "        docc=get_data(url2)\n",
    "        url3=[pq(sq).attr('href') for sq in docc('.info_cate a')]\n",
    "        title2=[pq(st).text() for st in docc('.info_cate a')]\n",
    "        for i in range(len(url3)):\n",
    "            new_path2=new_path1+\"\\\\\"+title2[i]\n",
    "            mkdir(new_path2) \n",
    "            url4=root+url3[i]\n",
    "            doccc=get_data(url4)\n",
    "            #name=doccc(\".info_tree a\").text()\n",
    "            text_name=title2[i]\n",
    "            cc=doccc('.tline').text()\n",
    "            content=re.sub(\"[A-Za-z0-9\\!\\%\\[\\]\\,\\。]\", \"\", cc)\n",
    "            ccc=content.split('-') #文字\n",
    "            pq(doccc('script')[-6]).text()\n",
    "            aaaa = pq(doccc('script')[-6]).text()\n",
    "            m=re.search('imglist.+png\\'\\;',aaaa)\n",
    "            try:\n",
    "                n=m.group(0).split(';')\n",
    "                filename_text=new_path2+\"\\\\\"+text_name+'.txt'\n",
    "                filename_pic=new_path2+\"\\\\\"+text_name+'_picsource.txt'\n",
    "                content_write(ccc, filename_text)\n",
    "                pic_write(n, filename_pic)\n",
    "            except AttributeError:\n",
    "                pass\n",
    "            continue"
   ]
  }
 ],
 "metadata": {
  "kernelspec": {
   "display_name": "Python 3",
   "language": "python",
   "name": "python3"
  },
  "language_info": {
   "codemirror_mode": {
    "name": "ipython",
    "version": 3
   },
   "file_extension": ".py",
   "mimetype": "text/x-python",
   "name": "python",
   "nbconvert_exporter": "python",
   "pygments_lexer": "ipython3",
   "version": "3.7.3"
  }
 },
 "nbformat": 4,
 "nbformat_minor": 2
}
